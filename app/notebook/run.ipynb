{
 "cells": [
  {
   "cell_type": "code",
   "execution_count": null,
   "metadata": {},
   "outputs": [],
   "source": [
    "FEATURES_PATH = \"../features/v21\""
   ]
  },
  {
   "cell_type": "markdown",
   "metadata": {},
   "source": [
    "## Feature Engineering"
   ]
  },
  {
   "cell_type": "code",
   "execution_count": null,
   "metadata": {
    "scrolled": true
   },
   "outputs": [],
   "source": [
    "!python ../src/run_features.py \\\n",
    "    --features_path $FEATURES_PATH"
   ]
  },
  {
   "cell_type": "markdown",
   "metadata": {},
   "source": [
    "## Train"
   ]
  },
  {
   "cell_type": "code",
   "execution_count": null,
   "metadata": {
    "scrolled": true
   },
   "outputs": [],
   "source": [
    "!python ../src/run_train.py \\\n",
    "    --suffix \"v11-lgbm\" \\\n",
    "    --features_path $FEATURES_PATH \\\n",
    "    --model_type \"lgbm\" \\\n",
    "    --selected_config_path \"../conf/conf-v11-lgbm-fv21.json\""
   ]
  },
  {
   "cell_type": "code",
   "execution_count": null,
   "metadata": {
    "scrolled": true
   },
   "outputs": [],
   "source": [
    "!python ../src/run_train.py \\\n",
    "    --suffix \"v15-lgbm-1\" \\\n",
    "    --features_path $FEATURES_PATH \\\n",
    "    --model_type \"lgbm\" \\\n",
    "    --selected_config_path \"../conf/conf-v15-lgbm-1-fv21.json\""
   ]
  },
  {
   "cell_type": "code",
   "execution_count": null,
   "metadata": {},
   "outputs": [],
   "source": [
    "!python ../src/run_train.py \\\n",
    "    --suffix \"v15-lgbm-2\" \\\n",
    "    --features_path $FEATURES_PATH \\\n",
    "    --model_type \"lgbm\" \\\n",
    "    --selected_config_path \"../conf/conf-v15-lgbm-2-fv21.json\""
   ]
  },
  {
   "cell_type": "code",
   "execution_count": null,
   "metadata": {},
   "outputs": [],
   "source": [
    "!python ../src/run_train.py \\\n",
    "    --suffix \"v15-lgbm-3\" \\\n",
    "    --features_path $FEATURES_PATH \\\n",
    "    --model_type \"lgbm\" \\\n",
    "    --selected_config_path \"../conf/conf-v15-lgbm-3-fv21.json\""
   ]
  },
  {
   "cell_type": "code",
   "execution_count": null,
   "metadata": {},
   "outputs": [],
   "source": [
    "!python ../src/run_train.py \\\n",
    "    --suffix \"v21-lgbm-1\" \\\n",
    "    --features_path $FEATURES_PATH \\\n",
    "    --model_type \"lgbm\" \\\n",
    "    --selected_config_path \"../conf/conf-v21-lgbm-1.json\" \\\n",
    "    --do_reduce_memory"
   ]
  },
  {
   "cell_type": "code",
   "execution_count": null,
   "metadata": {},
   "outputs": [],
   "source": [
    "!python ../src/run_train.py \\\n",
    "    --suffix \"v21-lgbm-2\" \\\n",
    "    --features_path $FEATURES_PATH \\\n",
    "    --model_type \"lgbm\" \\\n",
    "    --selected_config_path \"../conf/conf-v21-lgbm-2.json\" \\\n",
    "    --do_reduce_memory"
   ]
  },
  {
   "cell_type": "code",
   "execution_count": null,
   "metadata": {},
   "outputs": [],
   "source": [
    "!python ../src/run_train.py \\\n",
    "    --suffix \"v21-lgbm-3\" \\\n",
    "    --features_path $FEATURES_PATH \\\n",
    "    --model_type \"lgbm\" \\\n",
    "    --selected_config_path \"../conf/conf-v21-lgbm-3.json\" \\\n",
    "    --do_reduce_memory"
   ]
  },
  {
   "cell_type": "code",
   "execution_count": null,
   "metadata": {},
   "outputs": [],
   "source": [
    "!python ../src/run_train.py \\\n",
    "    --suffix \"v21-catboost-1\" \\\n",
    "    --features_path $FEATURES_PATH \\\n",
    "    --model_type \"catboost\" \\\n",
    "    --selected_config_path \"../conf/conf-v21-catboost-1.json\" \\\n",
    "    --do_reduce_memory"
   ]
  },
  {
   "cell_type": "code",
   "execution_count": null,
   "metadata": {},
   "outputs": [],
   "source": [
    "!python ../src/run_train.py \\\n",
    "    --suffix \"v21-catboost-2\" \\\n",
    "    --features_path $FEATURES_PATH \\\n",
    "    --model_type \"catboost\" \\\n",
    "    --selected_config_path \"../conf/conf-v21-catboost-2.json\" \\\n",
    "    --do_reduce_memory"
   ]
  },
  {
   "cell_type": "code",
   "execution_count": null,
   "metadata": {},
   "outputs": [],
   "source": [
    "!python ../src/run_train.py \\\n",
    "    --suffix \"v21-catboost-3\" \\\n",
    "    --features_path $FEATURES_PATH \\\n",
    "    --model_type \"catboost\" \\\n",
    "    --selected_config_path \"../conf/conf-v21-catboost-3.json\" \\\n",
    "    --do_reduce_memory"
   ]
  },
  {
   "cell_type": "markdown",
   "metadata": {},
   "source": [
    "## Ensemble\n",
    "\n",
    "../models以下にあるmodelの予測値を入力とする  \n",
    "../models/\\*stacking/submission.csvが最終提出物"
   ]
  },
  {
   "cell_type": "code",
   "execution_count": null,
   "metadata": {},
   "outputs": [],
   "source": [
    "!python ../src/run_train.py \\\n",
    "    --suffix \"stacking\" \\\n",
    "    --features_path $FEATURES_PATH \\\n",
    "    --model_type \"logistic\" \\\n",
    "    --do_stacking"
   ]
  }
 ],
 "metadata": {
  "kernelspec": {
   "display_name": "Python 3",
   "language": "python",
   "name": "python3"
  },
  "language_info": {
   "codemirror_mode": {
    "name": "ipython",
    "version": 3
   },
   "file_extension": ".py",
   "mimetype": "text/x-python",
   "name": "python",
   "nbconvert_exporter": "python",
   "pygments_lexer": "ipython3",
   "version": "3.7.6"
  }
 },
 "nbformat": 4,
 "nbformat_minor": 4
}
